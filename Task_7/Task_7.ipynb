{
 "cells": [
  {
   "cell_type": "markdown",
   "id": "daca94d1-9f00-42d6-84ae-4dd2ce4d1947",
   "metadata": {},
   "source": [
    "## Connect to a new SQLite database"
   ]
  },
  {
   "cell_type": "code",
   "execution_count": 24,
   "id": "32d2f9f0-e5c6-4637-97a3-a090b60a7a44",
   "metadata": {},
   "outputs": [],
   "source": [
    "import sqlite3\n",
    "import pandas as pd\n",
    "import matplotlib.pyplot as plt"
   ]
  },
  {
   "cell_type": "code",
   "execution_count": 12,
   "id": "7a6f15c2-7da1-4ba6-8a5d-6188f2ade15a",
   "metadata": {},
   "outputs": [],
   "source": [
    "import sqlite3\n",
    "\n",
    "conn = sqlite3.connect(\"sales_data.db\")\n",
    "cursor = conn.cursor()"
   ]
  },
  {
   "cell_type": "markdown",
   "id": "eff4bc18-b156-4aa7-b6d4-b02231f34d83",
   "metadata": {},
   "source": [
    "### Create a simple sales table"
   ]
  },
  {
   "cell_type": "code",
   "execution_count": 15,
   "id": "36af85e7-4719-4150-92f0-c2fc429f3a5a",
   "metadata": {},
   "outputs": [
    {
     "data": {
      "text/plain": [
       "<sqlite3.Cursor at 0x1be197a1fc0>"
      ]
     },
     "execution_count": 15,
     "metadata": {},
     "output_type": "execute_result"
    }
   ],
   "source": [
    "# Create a simple sales table\n",
    "cursor.execute('''\n",
    "    CREATE TABLE IF NOT EXISTS sales (\n",
    "        id INTEGER PRIMARY KEY,\n",
    "        product TEXT,\n",
    "        quantity INTEGER,\n",
    "        price REAL\n",
    "    )\n",
    "''')"
   ]
  },
  {
   "cell_type": "markdown",
   "id": "7fffeba1-6788-4c37-98a5-6465b533c932",
   "metadata": {},
   "source": [
    "## Insert some dummy data"
   ]
  },
  {
   "cell_type": "code",
   "execution_count": 22,
   "id": "614c9ea5-5164-424c-b764-8098b222a106",
   "metadata": {},
   "outputs": [],
   "source": [
    "sales_data = [\n",
    "    ('Pen', 10, 5.0),\n",
    "    ('Pen', 20, 5.0),\n",
    "    ('Notebook', 5, 20.0),\n",
    "    ('Notebook', 7, 20.0),\n",
    "    ('Eraser', 30, 2.0),\n",
    "    ('Marker', 15, 10.0),\n",
    "    ('Marker', 10, 10.0)\n",
    "]\n",
    "\n",
    "cursor.executemany(\"INSERT INTO sales (product, quantity, price) VALUES (?, ?, ?)\", sales_data)\n",
    "conn.commit()"
   ]
  },
  {
   "cell_type": "code",
   "execution_count": 28,
   "id": "85572252-1880-4eb2-9777-978b90e34db2",
   "metadata": {},
   "outputs": [
    {
     "name": "stdout",
     "output_type": "stream",
     "text": [
      "    id   product  quantity  price\n",
      "0    1       Pen        10    5.0\n",
      "1    2       Pen        20    5.0\n",
      "2    3  Notebook         5   20.0\n",
      "3    4  Notebook         7   20.0\n",
      "4    5    Eraser        30    2.0\n",
      "5    6    Marker        15   10.0\n",
      "6    7    Marker        10   10.0\n",
      "7    8       Pen        10    5.0\n",
      "8    9       Pen        20    5.0\n",
      "9   10  Notebook         5   20.0\n",
      "10  11  Notebook         7   20.0\n",
      "11  12    Eraser        30    2.0\n",
      "12  13    Marker        15   10.0\n",
      "13  14    Marker        10   10.0\n",
      "14  15       Pen        10    5.0\n",
      "15  16       Pen        20    5.0\n",
      "16  17  Notebook         5   20.0\n",
      "17  18  Notebook         7   20.0\n",
      "18  19    Eraser        30    2.0\n",
      "19  20    Marker        15   10.0\n",
      "20  21    Marker        10   10.0\n"
     ]
    }
   ],
   "source": [
    "query = \"\"\"\n",
    "SELECT\n",
    "    id , \n",
    "    product, \n",
    "    quantity, \n",
    "    price\n",
    "FROM sales\n",
    "\"\"\"\n",
    "\n",
    "df = pd.read_sql_query(query, conn)\n",
    "print(df)"
   ]
  },
  {
   "cell_type": "code",
   "execution_count": 32,
   "id": "be42a15c-7ebe-4dcb-ae76-d37b7aa99a79",
   "metadata": {},
   "outputs": [
    {
     "name": "stdout",
     "output_type": "stream",
     "text": [
      "Sales Summary:\n",
      "     product  total_quantity  revenue\n",
      "0    Eraser              90    180.0\n",
      "1    Marker              75    750.0\n",
      "2  Notebook              36    720.0\n",
      "3       Pen              90    450.0\n"
     ]
    },
    {
     "data": {
      "image/png": "[encoded data removed]",
      "text/plain": [
       "<Figure size 640x480 with 1 Axes>"
      ]
     },
     "metadata": {},
     "output_type": "display_data"
    }
   ],
   "source": [
    "# SQL query: group by product, calculate total quantity and revenue\n",
    "query = \"\"\"\n",
    "SELECT \n",
    "    product, \n",
    "    SUM(quantity) AS total_quantity, \n",
    "    SUM(quantity * price) AS revenue\n",
    "FROM sales\n",
    "GROUP BY product\n",
    "\"\"\"\n",
    "\n",
    "df = pd.read_sql_query(query, conn , index_col=None )\n",
    "\n",
    "# Display table\n",
    "print(\"Sales Summary:\\n\", df)\n",
    "\n",
    "# Plot a bar chart of revenue by product\n",
    "df.plot(kind='bar', x='product', y='revenue', legend=False, color='skyblue')\n",
    "plt.title(\"Revenue by Product\")\n",
    "plt.ylabel(\"Revenue (INR)\")\n",
    "plt.xticks(rotation=45)\n",
    "plt.tight_layout()\n",
    "plt.show()"
   ]
  },
  {
   "cell_type": "code",
   "execution_count": 34,
   "id": "e9ac8a0b-784e-4155-9579-d5672486b2ab",
   "metadata": {},
   "outputs": [
    {
     "data": {
      "text/plain": [
       "<Figure size 640x480 with 0 Axes>"
      ]
     },
     "metadata": {},
     "output_type": "display_data"
    }
   ],
   "source": [
    "plt.savefig(\"sales_chart.png\")"
   ]
  },
  {
   "cell_type": "code",
   "execution_count": null,
   "id": "21ef3b0b-6258-4359-acbd-5477e1deaeb7",
   "metadata": {},
   "outputs": [],
   "source": []
  }
 ],
 "metadata": {
  "kernelspec": {
   "display_name": "Python 3 (ipykernel)",
   "language": "python",
   "name": "python3"
  },
  "language_info": {
   "codemirror_mode": {
    "name": "ipython",
    "version": 3
   },
   "file_extension": ".py",
   "mimetype": "text/x-python",
   "name": "python",
   "nbconvert_exporter": "python",
   "pygments_lexer": "ipython3",
   "version": "3.12.4"
  }
 },
 "nbformat": 4,
 "nbformat_minor": 5
}
